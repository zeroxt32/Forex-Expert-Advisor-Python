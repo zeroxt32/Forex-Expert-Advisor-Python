{
 "cells": [
  {
   "cell_type": "code",
   "execution_count": 1,
   "id": "9848b0fd-8cd2-4be9-86f2-33913b7c90e6",
   "metadata": {},
   "outputs": [],
   "source": [
    "import numpy as np\n",
    "import os\n",
    "from tensorflow import keras\n",
    "from ncps import wirings\n",
    "from ncps.tf import LTC\n",
    "import pandas as pd"
   ]
  },
  {
   "cell_type": "code",
   "execution_count": 2,
   "id": "df420e14-be84-41a0-a16b-f3bf2440ef3d",
   "metadata": {},
   "outputs": [],
   "source": [
    "m5long_step_4 = pd.read_csv(\"final_complete_m5long_timestep_4.csv\")"
   ]
  },
  {
   "cell_type": "code",
   "execution_count": null,
   "id": "f54d0925-45a5-4dd7-b360-bb72a2d82a12",
   "metadata": {},
   "outputs": [],
   "source": []
  },
  {
   "cell_type": "code",
   "execution_count": 4,
   "id": "f1869ccc-ec2a-4623-a71e-2454b363e3de",
   "metadata": {},
   "outputs": [
    {
     "data": {
      "text/plain": [
       "array([0.99990315, 0.99988647, 0.99988473, 0.99987063, 0.99986044,\n",
       "       0.99989704, 0.99994875, 0.99994731, 0.99995094, 1.        ,\n",
       "       0.99995313, 0.9993544 , 0.99934512, 0.99934557, 0.99933961,\n",
       "       0.99935349, 0.99935464, 0.99934716, 0.99934867, 0.99936852,\n",
       "       0.99934383, 0.99931553, 0.99929583, 0.9992935 , 0.999299  ,\n",
       "       0.99935502, 0.99933485, 0.99934942, 0.99937833, 0.99937493,\n",
       "       0.99937245, 0.99938166, 0.99941531, 0.99942385, 0.99941607,\n",
       "       0.9994348 , 0.99944537, 0.99940603, 0.99945518, 0.99944234,\n",
       "       0.99941743, 0.99938716, 0.99937425, 0.99935961, 0.99937472,\n",
       "       0.99942641, 0.99941359, 0.99936459, 0.99903505, 0.99906991,\n",
       "       0.99908917, 0.99910751, 0.99916789, 0.99914502, 0.99911468,\n",
       "       0.99911679, 0.99911974, 0.99917544, 0.99919514, 0.99921892,\n",
       "       0.99923393, 0.99918434, 0.99916109, 0.99913959, 0.99913868,\n",
       "       0.99912623, 0.99912509, 0.99912396, 0.99910842, 0.99907543,\n",
       "       0.99911422, 0.99913114, 0.99912827, 0.99909807, 0.99912592,\n",
       "       0.99912796, 0.99912849, 0.99912608, 0.99911626, 0.99910207,\n",
       "       0.99915152, 0.99914978, 0.99914487, 0.99914154, 0.99914751,\n",
       "       0.9991623 , 0.99887095, 0.99889163, 0.99889155, 0.99887337,\n",
       "       0.99884113, 0.99882633, 0.99885593, 0.99887042, 0.99891465,\n",
       "       0.99892673, 0.998937  , 0.99891443, 0.99891042, 0.99888469,\n",
       "       0.99886431])"
      ]
     },
     "execution_count": 4,
     "metadata": {},
     "output_type": "execute_result"
    }
   ],
   "source": [
    "a1 = list(m5long_step_4.loc[:100][\"MA 18\"])\n",
    "a1 = np.array(a1)\n",
    "# a1 / (np.max(a1) - np.min(a1))\n",
    "a1/np.max(a1)"
   ]
  },
  {
   "cell_type": "code",
   "execution_count": 5,
   "id": "0b321748-26dc-410c-93c4-6a8cafc6c008",
   "metadata": {},
   "outputs": [
    {
     "name": "stdout",
     "output_type": "stream",
     "text": [
      "7360.1828 7351.5444\n"
     ]
    }
   ],
   "source": [
    "print(np.max(a1), np.min(a1))"
   ]
  },
  {
   "cell_type": "code",
   "execution_count": 74,
   "id": "c334d2a2-e10c-4b24-8aa3-9274cf635339",
   "metadata": {
    "scrolled": true
   },
   "outputs": [
    {
     "name": "stdout",
     "output_type": "stream",
     "text": [
      "Model: \"sequential_4\"\n",
      "_________________________________________________________________\n",
      " Layer (type)                Output Shape              Param #   \n",
      "=================================================================\n",
      " ltc_4 (LTC)                 (None, None, 1)           350       \n",
      "                                                                 \n",
      "=================================================================\n",
      "Total params: 350\n",
      "Trainable params: 350\n",
      "Non-trainable params: 0\n",
      "_________________________________________________________________\n",
      "Epoch 1/50\n",
      "1/1 [==============================] - 8s 8s/step - loss: 3.0085\n",
      "Epoch 2/50\n",
      "1/1 [==============================] - 1s 1s/step - loss: 2.8227\n",
      "Epoch 3/50\n",
      "1/1 [==============================] - 1s 1s/step - loss: 2.0238\n",
      "Epoch 4/50\n",
      "1/1 [==============================] - 1s 1s/step - loss: 1.6530\n",
      "Epoch 5/50\n",
      "1/1 [==============================] - 1s 1s/step - loss: 1.3935\n",
      "Epoch 6/50\n",
      "1/1 [==============================] - 1s 1s/step - loss: 1.1847\n",
      "Epoch 7/50\n",
      "1/1 [==============================] - 1s 1s/step - loss: 1.0092\n",
      "Epoch 8/50\n",
      "1/1 [==============================] - 1s 1s/step - loss: 0.8584\n",
      "Epoch 9/50\n",
      "1/1 [==============================] - 1s 1s/step - loss: 0.7270\n",
      "Epoch 10/50\n",
      "1/1 [==============================] - 1s 1s/step - loss: 0.6111\n",
      "Epoch 11/50\n",
      "1/1 [==============================] - 1s 1s/step - loss: 0.5080\n",
      "Epoch 12/50\n",
      "1/1 [==============================] - 1s 1s/step - loss: 0.4162\n",
      "Epoch 13/50\n",
      "1/1 [==============================] - 1s 1s/step - loss: 0.3346\n",
      "Epoch 14/50\n",
      "1/1 [==============================] - 1s 1s/step - loss: 0.2633\n",
      "Epoch 15/50\n",
      "1/1 [==============================] - 1s 1s/step - loss: 0.2024\n",
      "Epoch 16/50\n",
      "1/1 [==============================] - 1s 1s/step - loss: 0.1521\n",
      "Epoch 17/50\n",
      "1/1 [==============================] - 1s 1s/step - loss: 0.1121\n",
      "Epoch 18/50\n",
      "1/1 [==============================] - 1s 1s/step - loss: 0.0815\n",
      "Epoch 19/50\n",
      "1/1 [==============================] - 1s 1s/step - loss: 0.0585\n",
      "Epoch 20/50\n",
      "1/1 [==============================] - 1s 1s/step - loss: 0.0416\n",
      "Epoch 21/50\n",
      "1/1 [==============================] - 1s 1s/step - loss: 0.0293\n",
      "Epoch 22/50\n",
      "1/1 [==============================] - 1s 1s/step - loss: 0.0202\n",
      "Epoch 23/50\n",
      "1/1 [==============================] - 1s 1s/step - loss: 0.0135\n",
      "Epoch 24/50\n",
      "1/1 [==============================] - 1s 1s/step - loss: 0.0086\n",
      "Epoch 25/50\n",
      "1/1 [==============================] - 1s 1s/step - loss: 0.0052\n",
      "Epoch 26/50\n",
      "1/1 [==============================] - 1s 1s/step - loss: 0.0028\n",
      "Epoch 27/50\n",
      "1/1 [==============================] - 1s 1s/step - loss: 0.0013\n",
      "Epoch 28/50\n",
      "1/1 [==============================] - 1s 1s/step - loss: 4.5395e-04\n",
      "Epoch 29/50\n",
      "1/1 [==============================] - 1s 1s/step - loss: 1.6857e-04\n",
      "Epoch 30/50\n",
      "1/1 [==============================] - 1s 1s/step - loss: 2.8329e-04\n",
      "Epoch 31/50\n",
      "1/1 [==============================] - 1s 1s/step - loss: 6.8508e-04\n",
      "Epoch 32/50\n",
      "1/1 [==============================] - 1s 1s/step - loss: 0.0013\n",
      "Epoch 33/50\n",
      "1/1 [==============================] - 1s 1s/step - loss: 0.0020\n",
      "Epoch 34/50\n",
      "1/1 [==============================] - 1s 1s/step - loss: 0.0027\n",
      "Epoch 35/50\n",
      "1/1 [==============================] - 1s 1s/step - loss: 0.0034\n",
      "Epoch 36/50\n",
      "1/1 [==============================] - 1s 1s/step - loss: 0.0041\n",
      "Epoch 37/50\n",
      "1/1 [==============================] - 1s 1s/step - loss: 0.0047\n",
      "Epoch 38/50\n",
      "1/1 [==============================] - 1s 1s/step - loss: 0.0051\n",
      "Epoch 39/50\n",
      "1/1 [==============================] - 1s 1s/step - loss: 0.0055\n",
      "Epoch 40/50\n",
      "1/1 [==============================] - 1s 1s/step - loss: 0.0057\n",
      "Epoch 41/50\n",
      "1/1 [==============================] - 1s 1s/step - loss: 0.0057\n",
      "Epoch 42/50\n",
      "1/1 [==============================] - 1s 1s/step - loss: 0.0057\n",
      "Epoch 43/50\n",
      "1/1 [==============================] - 1s 1s/step - loss: 0.0055\n",
      "Epoch 44/50\n",
      "1/1 [==============================] - 1s 1s/step - loss: 0.0053\n",
      "Epoch 45/50\n",
      "1/1 [==============================] - 1s 1s/step - loss: 0.0049\n",
      "Epoch 46/50\n",
      "1/1 [==============================] - 1s 1s/step - loss: 0.0046\n",
      "Epoch 47/50\n",
      "1/1 [==============================] - 1s 1s/step - loss: 0.0041\n",
      "Epoch 48/50\n",
      "1/1 [==============================] - 1s 1s/step - loss: 0.0037\n",
      "Epoch 49/50\n",
      "1/1 [==============================] - 1s 1s/step - loss: 0.0032\n",
      "Epoch 50/50\n",
      "1/1 [==============================] - 1s 1s/step - loss: 0.0028\n"
     ]
    },
    {
     "data": {
      "image/png": "[encoded data removed]",
      "text/plain": [
       "<Figure size 600x400 with 1 Axes>"
      ]
     },
     "metadata": {},
     "output_type": "display_data"
    }
   ],
   "source": [
    "import matplotlib.pyplot as plt\n",
    "a1 = np.array(list(m5long_step_4.loc[:1000][\"MA 18\"]))\n",
    "a2 = np.array(list(m5long_step_4.loc[:1000][\"MA 50\"]))\n",
    "a = np.expand_dims(np.stack([a1/np.max(a1), a2/np.max(a2)], axis=1), axis = 0)\n",
    "b = np.array(list(m5long_step_4.loc[:1000][\"Ask\"]))\n",
    "b = b/np.max(b)\n",
    "b=b.reshape(1,len(b), 1)\n",
    "wiring = wirings.AutoNCP(8,1) # 8 neurons in total, 1 output (motor neuron)\n",
    "\n",
    "model = keras.models.Sequential(\n",
    "    [\n",
    "        keras.layers.InputLayer(input_shape=(None, 2)),\n",
    "        # here we could potentially add layers before and after the LTC network\n",
    "        LTC(wiring, return_sequences=True),\n",
    "    ]\n",
    ")\n",
    "model.compile(\n",
    "    optimizer=keras.optimizers.Adam(0.01), loss='mean_squared_error'\n",
    ")\n",
    "\n",
    "model.summary()\n",
    "hist = model.fit(x=a, y=b, batch_size=1, epochs=50,verbose=1)\n",
    "# How does the trained model now fit to the sinusoidal function?\n",
    "prediction = model(a).numpy()\n",
    "plt.figure(figsize=(6, 4))\n",
    "plt.plot(b[0, :, 0], label=\"Target output\")\n",
    "plt.plot(prediction[0, :, 0], label=\"LTC output\",linestyle=\"dashed\")\n",
    "plt.ylim((-1, 1))\n",
    "plt.legend(loc=\"upper right\")\n",
    "plt.title(\"After training\")\n",
    "plt.show()"
   ]
  },
  {
   "cell_type": "code",
   "execution_count": null,
   "id": "1e5a3697-e1ef-434d-8aca-3d63ac166a9d",
   "metadata": {},
   "outputs": [],
   "source": [
    "a"
   ]
  },
  {
   "cell_type": "code",
   "execution_count": null,
   "id": "035ae2e7-872f-4a41-8394-cf34795ed3a7",
   "metadata": {},
   "outputs": [],
   "source": [
    "\n",
    "import matplotlib.pyplot as plt\n",
    "a1 = np.array(list(m5long_step_4.loc[:100][\"MA 18\"]))\n",
    "a2 = np.array(list(m5long_step_4.loc[:100][\"MA 50\"]))\n",
    "a = np.expand_dims( np.stack([1 - ( (np.max(a1) - a1)/np.max(a1) ) , 1 - (np.max(a2) - a2)/np.max(a2)], axis=1), axis = 0)\n",
    "b = np.array(list(m5long_step_4.loc[:100][\"Ask\"]))\n",
    "b = 1 - (np.max(b) - b)/np.max(b)\n",
    "b=b.reshape(1,len(b), 1)\n",
    "hist = model.fit(x=a, y=b, batch_size=1, epochs=50,verbose=1)\n",
    "\n",
    "prediction = model(a).numpy()\n",
    "plt.figure(figsize=(6, 4))\n",
    "plt.plot(b[0, :, 0], label=\"Target output\")\n",
    "plt.plot(prediction[0, :, 0], label=\"LTC output\",linestyle=\"dashed\")\n",
    "# plt.ylim((-1, 1))|\n",
    "plt.legend(loc=\"upper right\")\n",
    "plt.title(\"After training\")\n",
    "plt.show()"
   ]
  },
  {
   "cell_type": "code",
   "execution_count": 62,
   "id": "7cd80c41-6aa3-4f59-b4a0-f3f667a0e1ea",
   "metadata": {},
   "outputs": [
    {
     "data": {
      "text/plain": [
       "0.0625"
      ]
     },
     "execution_count": 62,
     "metadata": {},
     "output_type": "execute_result"
    }
   ],
   "source": [
    "1-((80-5)/80)"
   ]
  },
  {
   "cell_type": "code",
   "execution_count": 40,
   "id": "9b37ef3c-a2f7-4f4e-9449-36efd5f1af71",
   "metadata": {},
   "outputs": [
    {
     "name": "stdout",
     "output_type": "stream",
     "text": [
      "data_x.shape:  (1, 48, 2)\n",
      "data_y.shape:  (1, 48, 1)\n"
     ]
    }
   ],
   "source": [
    "import matplotlib.pyplot as plt\n",
    "# import seaborn as sns\n",
    "\n",
    "N = 48 # Length of the time-series\n",
    "# Input feature is a sine and a cosine wave\n",
    "data_x = np.stack(\n",
    "    [np.sin(np.linspace(0, 3 * np.pi, N)), np.cos(np.linspace(0, 3 * np.pi, N))], axis=1\n",
    ")\n",
    "data_x = np.expand_dims(data_x, axis=0).astype(np.float32)  # Add batch dimension\n",
    "# Target output is a sine with double the frequency of the input signal\n",
    "data_y = np.sin(np.linspace(0, 6 * np.pi, N)).reshape([1, N, 1]).astype(np.float32)\n",
    "print(\"data_x.shape: \", str(data_x.shape))\n",
    "print(\"data_y.shape: \", str(data_y.shape))\n",
    "\n",
    "# Let's visualize the training data\n",
    "# sns.set()\n",
    "# plt.figure(figsize=(6, 4))\n",
    "# plt.plot(data_x[0, :, 0], label=\"Input feature 1\")\n",
    "# plt.plot(data_x[0, :, 1], label=\"Input feature 1\")\n",
    "# plt.plot(data_y[0, :, 0], label=\"Target output\")\n",
    "# plt.ylim((-1, 1))\n",
    "# plt.title(\"Training data\")\n",
    "# plt.legend(loc=\"upper right\")\n",
    "# plt.show()"
   ]
  },
  {
   "cell_type": "code",
   "execution_count": 8,
   "id": "c5c8a68c-cffa-418c-9b34-6e5bc787beaa",
   "metadata": {},
   "outputs": [
    {
     "data": {
      "text/plain": [
       "(48,)"
      ]
     },
     "execution_count": 8,
     "metadata": {},
     "output_type": "execute_result"
    }
   ],
   "source": [
    "N = 48\n",
    "np.sin(np.linspace(0, 3 * np.pi, N)).shape"
   ]
  },
  {
   "cell_type": "code",
   "execution_count": null,
   "id": "59782fd8-bc20-4f92-afbe-c6e11b4417ac",
   "metadata": {},
   "outputs": [],
   "source": [
    "data_x"
   ]
  },
  {
   "cell_type": "code",
   "execution_count": 38,
   "id": "2bf2398a-fa83-4aa6-babb-51fb8e0093f4",
   "metadata": {},
   "outputs": [
    {
     "data": {
      "text/plain": [
       "(1, 48, 1)"
      ]
     },
     "execution_count": 38,
     "metadata": {},
     "output_type": "execute_result"
    }
   ],
   "source": [
    "data_y.shape"
   ]
  },
  {
   "cell_type": "code",
   "execution_count": 7,
   "id": "aed70d79-7271-422d-af58-289b48de133c",
   "metadata": {},
   "outputs": [
    {
     "name": "stdout",
     "output_type": "stream",
     "text": [
      "Model: \"sequential_1\"\n",
      "_________________________________________________________________\n",
      " Layer (type)                Output Shape              Param #   \n",
      "=================================================================\n",
      " ltc_1 (LTC)                 (None, None, 1)           350       \n",
      "                                                                 \n",
      "=================================================================\n",
      "Total params: 350\n",
      "Trainable params: 350\n",
      "Non-trainable params: 0\n",
      "_________________________________________________________________\n"
     ]
    }
   ],
   "source": [
    "wiring = wirings.AutoNCP(8,1) # 8 neurons in total, 1 output (motor neuron)\n",
    "model = keras.models.Sequential(\n",
    "    [\n",
    "        keras.layers.InputLayer(input_shape=(None, 2)),\n",
    "        # here we could potentially add layers before and after the LTC network\n",
    "        LTC(wiring, return_sequences=True),\n",
    "    ]\n",
    ")\n",
    "model.compile(\n",
    "    optimizer=keras.optimizers.Adam(0.01), loss='mean_squared_error'\n",
    ")\n",
    "\n",
    "model.summary()"
   ]
  },
  {
   "cell_type": "code",
   "execution_count": null,
   "id": "ffa431fc-281c-4a1c-bd1e-c830a2e926b7",
   "metadata": {},
   "outputs": [],
   "source": []
  },
  {
   "cell_type": "code",
   "execution_count": null,
   "id": "45da86d9-252e-4242-8373-e5003e695762",
   "metadata": {},
   "outputs": [],
   "source": [
    "# sns.set_style(\"white\")\n",
    "# plt.figure(figsize=(6, 4))\n",
    "# legend_handles = wiring.draw_graph(draw_labels=True, neuron_colors={\"command\": \"tab:cyan\"})\n",
    "# plt.legend(handles=legend_handles, loc=\"upper center\", bbox_to_anchor=(1, 1))\n",
    "# sns.despine(left=True, bottom=True)\n",
    "# plt.tight_layout()\n",
    "# plt.show()"
   ]
  },
  {
   "cell_type": "code",
   "execution_count": null,
   "id": "2b13810b-e7b0-4d9d-90f7-47014a5e7846",
   "metadata": {},
   "outputs": [],
   "source": [
    "# Let's visualize how LTC initialy performs before the training\n",
    "# sns.set()\n",
    "# prediction = model(data_x).numpy()\n",
    "# plt.figure(figsize=(6, 4))\n",
    "# plt.plot(data_y[0, :, 0], label=\"Target output\")\n",
    "# plt.plot(prediction[0, :, 0], label=\"NCP output\")\n",
    "# plt.ylim((-1, 1))\n",
    "# plt.title(\"Before training\")\n",
    "# plt.legend(loc=\"upper right\")\n",
    "# plt.show()"
   ]
  },
  {
   "cell_type": "code",
   "execution_count": null,
   "id": "4c356196-cdb4-4adf-944d-1c3fc0d8fd3d",
   "metadata": {},
   "outputs": [],
   "source": [
    "# Train the model for 400 epochs (= training steps)\n",
    "hist = model.fit(x=data_x, y=data_y, batch_size=1, epochs=100,verbose=1)"
   ]
  },
  {
   "cell_type": "code",
   "execution_count": null,
   "id": "37a84fb2-75bd-4aa4-b606-a47941731e9f",
   "metadata": {},
   "outputs": [],
   "source": [
    "# Let's visualize the training loss\n",
    "sns.set()\n",
    "plt.figure(figsize=(6, 4))\n",
    "plt.plot(hist.history[\"loss\"], label=\"Training loss\")\n",
    "plt.legend(loc=\"upper right\")\n",
    "plt.xlabel(\"Training steps\")\n",
    "plt.show()"
   ]
  },
  {
   "cell_type": "code",
   "execution_count": 9,
   "id": "8268fae8-d9cb-4056-b354-3d2dbe1f141d",
   "metadata": {},
   "outputs": [
    {
     "data": {
      "image/png": "[encoded data removed]",
      "text/plain": [
       "<Figure size 600x400 with 1 Axes>"
      ]
     },
     "metadata": {},
     "output_type": "display_data"
    }
   ],
   "source": [
    "# How does the trained model now fit to the sinusoidal function?\n",
    "prediction = model(data_x).numpy()\n",
    "plt.figure(figsize=(6, 4))\n",
    "plt.plot(data_y[0, :, 0], label=\"Target output\")\n",
    "plt.plot(prediction[0, :, 0], label=\"LTC output\",linestyle=\"dashed\")\n",
    "plt.ylim((-1, 1))\n",
    "plt.legend(loc=\"upper right\")\n",
    "plt.title(\"After training\")\n",
    "plt.show()"
   ]
  },
  {
   "cell_type": "code",
   "execution_count": null,
   "id": "65a0d96b-0bfe-444f-b6d9-b4ddb24a83aa",
   "metadata": {},
   "outputs": [],
   "source": []
  }
 ],
 "metadata": {
  "kernelspec": {
   "display_name": "Python 3 (ipykernel)",
   "language": "python",
   "name": "python3"
  },
  "language_info": {
   "codemirror_mode": {
    "name": "ipython",
    "version": 3
   },
   "file_extension": ".py",
   "mimetype": "text/x-python",
   "name": "python",
   "nbconvert_exporter": "python",
   "pygments_lexer": "ipython3",
   "version": "3.10.8"
  }
 },
 "nbformat": 4,
 "nbformat_minor": 5
}
